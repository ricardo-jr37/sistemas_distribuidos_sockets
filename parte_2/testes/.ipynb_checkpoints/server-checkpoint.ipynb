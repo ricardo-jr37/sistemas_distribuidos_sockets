{
 "cells": [
  {
   "cell_type": "markdown",
   "metadata": {},
   "source": [
    "# Descrição do problema:\n",
    "<br>A segunda parte do trabalho consistem em implementar um Chat usando TCP. O Chat deve suportar múltiplos clientes e um servidor. Todos os clientes devem estar na mesma sala do chat (i.e., as mensagens enviadas por um cliente devem ser recebidas por todos os clientes). Comandos que o usuário (i.e., cliente) pode enviar:\n",
    "\n",
    "* /ENTRAR: ao usar esse comando, ele é requisitado a digitar IP, porta do servidor e nickname que deseja usar no chat (não precisa tratar nicknames repetidos);<br><br>\n",
    "\n",
    "* Uma vez conectado, o cliente pode enviar mensagens para a sala do chat;<br><br>\n",
    "\n",
    "* /USUARIOS: ao enviar esse comando, o cliente recebe a lista de usuários atualmente conectados ao chat;<br><br>\n",
    "\n",
    "* /SAIR: ao enviar esse comando, uma mensagem é enviada à sala do chat informando que o usuário está saindo e encerra a participação no chat.<br><br>\n",
    "\n",
    "É papel do servidor receber as requisições dos clientes e encaminhar as mensagens\n",
    "recebidas para todos eles. Descreva o formato para cada tipo das mensagem. Não\n",
    "pode usar comunicação em grupo."
   ]
  },
  {
   "cell_type": "code",
   "execution_count": 1,
   "metadata": {},
   "outputs": [],
   "source": [
    "#Biblioteca para usar sockets\n",
    "import socket\n",
    "#Biblioteca para trabalhar com mais de uma conexão ao mesmo tempo\n",
    "import threading"
   ]
  },
  {
   "cell_type": "code",
   "execution_count": 2,
   "metadata": {},
   "outputs": [],
   "source": [
    "bind_ip = 'localhost'\n",
    "bind_port = 6789"
   ]
  },
  {
   "cell_type": "code",
   "execution_count": 3,
   "metadata": {},
   "outputs": [],
   "source": [
    "#1° Parâmetro: serve para especificar que estamos trabalhando com o ipv4\n",
    "#2° Parâmetro: serve para indicar que estamos trabalhando com o TCP\n",
    "server = socket.socket(socket.AF_INET, socket.SOCK_STREAM)\n",
    "server.bind((bind_ip, bind_port))\n",
    "#indicando a quantidade de conexões simultâneas\n",
    "server.listen(5)"
   ]
  },
  {
   "cell_type": "code",
   "execution_count": 4,
   "metadata": {},
   "outputs": [],
   "source": [
    "def handle_client(client_socket):\n",
    "    #serve para receber a mensagem\n",
    "    request = client_socket.recv(1024).decode('utf-8')\n",
    "    print('Recebido: {}\\n----------------\\n'.format(request))\n",
    "    #client_socket.sendall('Mensagem destinada ao cliente: {}\\n'.format(addr[0]))\n",
    "    client_socket.sendall('Mensagem recebida pelo servidor!')\n",
    "    client_socket.close()"
   ]
  },
  {
   "cell_type": "code",
   "execution_count": null,
   "metadata": {
    "scrolled": true
   },
   "outputs": [
    {
     "name": "stdout",
     "output_type": "stream",
     "text": [
      "Escutando localhost:6789\n",
      "Conexão aceita de: 127.0.0.1 : 56802\n"
     ]
    },
    {
     "name": "stderr",
     "output_type": "stream",
     "text": [
      "Exception in thread Thread-6:\n",
      "Traceback (most recent call last):\n",
      "  File \"C:\\Users\\Pichau\\anaconda3\\lib\\threading.py\", line 932, in _bootstrap_inner\n",
      "    self.run()\n",
      "  File \"C:\\Users\\Pichau\\anaconda3\\lib\\threading.py\", line 870, in run\n",
      "    self._target(*self._args, **self._kwargs)\n",
      "  File \"<ipython-input-4-2ff114adb6e4>\", line 6, in handle_client\n",
      "TypeError: a bytes-like object is required, not 'str'\n"
     ]
    },
    {
     "name": "stdout",
     "output_type": "stream",
     "text": [
      "Recebido: ola\n",
      "----------------\n",
      "\n"
     ]
    }
   ],
   "source": [
    "print('Escutando {}:{}'.format(bind_ip, bind_port))\n",
    "while True:\n",
    "    client, addr = server.accept()\n",
    "    print('Conexão aceita de: {} : {}'.format(addr[0], addr[1]))\n",
    "    client_handler = threading.Thread(target=handle_client, args=(client, ))\n",
    "    client_handler.start()"
   ]
  },
  {
   "cell_type": "code",
   "execution_count": null,
   "metadata": {},
   "outputs": [],
   "source": [
    "import socket\n",
    "import pickle\n",
    "s = socket.socket(socket.AF_INET, socket.SOCK_STREAM)\n",
    "s.bind(('localhost', 6789))\n",
    "s.listen(1)\n",
    "while True:\n",
    "    conn, addr = s.accept()\n",
    "    data = conn.recv(1024)\n",
    "    if not data: break\n",
    "    teste = data.decode('utf-8')\n",
    "    teste = teste.split(' ')\n",
    "    data=pickle.dumps(teste)\n",
    "    conn.sendall(data)\n",
    "    conn.close()"
   ]
  },
  {
   "cell_type": "code",
   "execution_count": 2,
   "metadata": {},
   "outputs": [
    {
     "name": "stdout",
     "output_type": "stream",
     "text": [
      "b'Welcome to visit my test socket server. Waiting for command.'\n",
      "b\"I got your command, it is b'Hello, the world!'\"\n"
     ]
    }
   ],
   "source": [
    "import socket\n",
    "\n",
    "s = socket.socket(socket.AF_INET, socket.SOCK_STREAM)\n",
    "\n",
    "s.connect((\"localhost\", 3333))\n",
    "\n",
    "str_recv = s.recv(1024)\n",
    "\n",
    "print(str(str_recv))\n",
    "\n",
    "str_send = \"Hello, the world!\"\n",
    "\n",
    "s.send(bytes(str_send, 'utf-8'))\n",
    "\n",
    "str_recv = s.recv(1024)\n",
    "\n",
    "print(str(str_recv))\n",
    "s.close()"
   ]
  },
  {
   "cell_type": "code",
   "execution_count": null,
   "metadata": {
    "scrolled": true
   },
   "outputs": [
    {
     "name": "stdout",
     "output_type": "stream",
     "text": [
      "[<socket.socket fd=1292, family=AddressFamily.AF_INET, type=SocketKind.SOCK_STREAM, proto=0, laddr=('127.0.0.1', 1234), raddr=('127.0.0.1', 59867)>]\n",
      "nasdasd\n"
     ]
    },
    {
     "name": "stderr",
     "output_type": "stream",
     "text": [
      "Exception in thread Thread-6:\n",
      "Traceback (most recent call last):\n",
      "  File \"C:\\Users\\Pichau\\anaconda3\\lib\\threading.py\", line 932, in _bootstrap_inner\n",
      "    self.run()\n",
      "  File \"C:\\Users\\Pichau\\anaconda3\\lib\\threading.py\", line 870, in run\n",
      "    self._target(*self._args, **self._kwargs)\n",
      "  File \"<ipython-input-2-54a3e2887f7f>\", line 17, in handler\n",
      "ConnectionResetError: [WinError 10054] Foi forçado o cancelamento de uma conexão existente pelo host remoto\n"
     ]
    },
    {
     "name": "stdout",
     "output_type": "stream",
     "text": [
      "[<socket.socket fd=1292, family=AddressFamily.AF_INET, type=SocketKind.SOCK_STREAM, proto=0, laddr=('127.0.0.1', 1234), raddr=('127.0.0.1', 59867)>, <socket.socket fd=1308, family=AddressFamily.AF_INET, type=SocketKind.SOCK_STREAM, proto=0, laddr=('127.0.0.1', 1234), raddr=('127.0.0.1', 59926)>]\n",
      "asdas\n"
     ]
    },
    {
     "name": "stderr",
     "output_type": "stream",
     "text": [
      "Exception in thread Thread-7:\n",
      "Traceback (most recent call last):\n",
      "  File \"C:\\Users\\Pichau\\anaconda3\\lib\\threading.py\", line 932, in _bootstrap_inner\n",
      "    self.run()\n",
      "  File \"C:\\Users\\Pichau\\anaconda3\\lib\\threading.py\", line 870, in run\n",
      "    self._target(*self._args, **self._kwargs)\n",
      "  File \"<ipython-input-2-54a3e2887f7f>\", line 17, in handler\n",
      "ConnectionResetError: [WinError 10054] Foi forçado o cancelamento de uma conexão existente pelo host remoto\n"
     ]
    },
    {
     "name": "stdout",
     "output_type": "stream",
     "text": [
      "[<socket.socket fd=1292, family=AddressFamily.AF_INET, type=SocketKind.SOCK_STREAM, proto=0, laddr=('127.0.0.1', 1234), raddr=('127.0.0.1', 59867)>, <socket.socket fd=1308, family=AddressFamily.AF_INET, type=SocketKind.SOCK_STREAM, proto=0, laddr=('127.0.0.1', 1234), raddr=('127.0.0.1', 59926)>, <socket.socket fd=1276, family=AddressFamily.AF_INET, type=SocketKind.SOCK_STREAM, proto=0, laddr=('127.0.0.1', 1234), raddr=('127.0.0.1', 59984)>]\n",
      "teste\n"
     ]
    },
    {
     "name": "stderr",
     "output_type": "stream",
     "text": [
      "Exception in thread Thread-8:\n",
      "Traceback (most recent call last):\n",
      "  File \"C:\\Users\\Pichau\\anaconda3\\lib\\threading.py\", line 932, in _bootstrap_inner\n",
      "    self.run()\n",
      "  File \"C:\\Users\\Pichau\\anaconda3\\lib\\threading.py\", line 870, in run\n",
      "    self._target(*self._args, **self._kwargs)\n",
      "  File \"<ipython-input-2-54a3e2887f7f>\", line 17, in handler\n",
      "ConnectionResetError: [WinError 10054] Foi forçado o cancelamento de uma conexão existente pelo host remoto\n"
     ]
    },
    {
     "name": "stdout",
     "output_type": "stream",
     "text": [
      "[<socket.socket fd=1292, family=AddressFamily.AF_INET, type=SocketKind.SOCK_STREAM, proto=0, laddr=('127.0.0.1', 1234), raddr=('127.0.0.1', 59867)>, <socket.socket fd=1308, family=AddressFamily.AF_INET, type=SocketKind.SOCK_STREAM, proto=0, laddr=('127.0.0.1', 1234), raddr=('127.0.0.1', 59926)>, <socket.socket fd=1276, family=AddressFamily.AF_INET, type=SocketKind.SOCK_STREAM, proto=0, laddr=('127.0.0.1', 1234), raddr=('127.0.0.1', 59984)>, <socket.socket fd=1324, family=AddressFamily.AF_INET, type=SocketKind.SOCK_STREAM, proto=0, laddr=('127.0.0.1', 1234), raddr=('127.0.0.1', 60040)>]\n",
      "nada\n"
     ]
    }
   ],
   "source": [
    "'''\n",
    "1° passo: Receber o nome do usuário\n",
    "'''\n",
    "import socket\n",
    "import threading\n",
    "\n",
    "class Server:\n",
    "    s = socket.socket(socket.AF_INET, socket.SOCK_STREAM)\n",
    "    connections = []\n",
    "    \n",
    "    def __init__(self):\n",
    "        self.s.bind(('localhost', 1234))\n",
    "        self.s.listen(1)\n",
    "    \n",
    "    def handler(self, c, a):\n",
    "        while True:\n",
    "            data = c.recv(1024)\n",
    "            teste = data.decode('utf-8')\n",
    "            print(teste)\n",
    "            #for connection in self.connections:\n",
    "                #connection.send(data)\n",
    "            if data.decode(\"utf-8\") == 'sair':\n",
    "                print(str(a[0])+ ' : '+str(a[1])+' disconncted')\n",
    "                self.conncetions.remove(c)\n",
    "                c.close()\n",
    "                break\n",
    "    \n",
    "    def run(self):\n",
    "        while True:\n",
    "            c, a = self.s.accept()\n",
    "            cThread = threading.Thread(target=self.handler, args=(c,a))\n",
    "            cThread.daemon = True\n",
    "            cThread.start()\n",
    "            self.connections.append(c)\n",
    "            print(self.connections)\n",
    "\n",
    "server = Server()\n",
    "server.run()"
   ]
  },
  {
   "cell_type": "code",
   "execution_count": null,
   "metadata": {
    "scrolled": true
   },
   "outputs": [
    {
     "name": "stdout",
     "output_type": "stream",
     "text": [
      "aceptarCon iniciadoProcesarCon iniciado\n",
      "\n",
      "brendon entrou no chat\n",
      "ricardo entrou no chat\n",
      "brendon: e ai\n",
      "to chegando aqui\n",
      "ricardo: oi\n",
      "to chegando aqui\n",
      "['brendon']\n",
      "['ricardo']\n",
      "Mensagem do Servidor!\n",
      "Usuarios onlines:\n",
      "brendon \n",
      "ricardo \n",
      "\n",
      "{50708: ['brendon'], 50709: ['ricardo']}\n",
      "SAIU do chat ricardo\n",
      "<socket.socket fd=4856, family=AddressFamily.AF_INET, type=SocketKind.SOCK_STREAM, proto=0, laddr=('127.0.0.1', 50), raddr=('127.0.0.1', 50709)>\n",
      "b'\\x80\\x04\\x95.\\x00\\x00\\x00\\x00\\x00\\x00\\x00\\x8c*Mensagem do Servidor: ricardo SAIU do chat\\x94.'\n",
      "{50708: ['brendon']}\n",
      "to chegando aqui\n",
      "['brendon']\n",
      "Mensagem do Servidor!\n",
      "Usuarios onlines:\n",
      "brendon \n",
      "\n"
     ]
    }
   ],
   "source": [
    "import socket\n",
    "import threading\n",
    "import sys\n",
    "import pickle\n",
    "#clients = {}\n",
    "onlines = {}\n",
    "HEADER_LENGTH = 10\n",
    "class Servidor():\n",
    "    def __init__(self, host=\"localhost\", port=50):\n",
    "\n",
    "        self.clientes = []\n",
    "\n",
    "        self.sock = socket.socket(socket.AF_INET, socket.SOCK_STREAM)\n",
    "        self.sock.bind((str(host), int(port)))\n",
    "        self.sock.listen(10)\n",
    "        self.sock.setblocking(False)\n",
    "\n",
    "        aceptar = threading.Thread(target=self.aceptarCon)\n",
    "        procesar = threading.Thread(target=self.procesarCon)\n",
    "\n",
    "        aceptar.daemon = True\n",
    "        aceptar.start()\n",
    "\n",
    "        procesar.daemon = True\n",
    "        procesar.start()\n",
    "\n",
    "        while True:\n",
    "            msg = input('->')\n",
    "            if msg == 's':\n",
    "                self.sock.close()\n",
    "                sys.exit()\n",
    "            else:\n",
    "                pass\n",
    "\n",
    "\n",
    "    def msg_to_all(self, msg, cliente):\n",
    "        print('to chegando aqui')\n",
    "        #print(self.clientes)\n",
    "        for c in self.clientes:\n",
    "            try:\n",
    "                if c != cliente:\n",
    "                    c.send(msg)\n",
    "            except:\n",
    "                self.clientes.remove(c)\n",
    "\n",
    "    def usuarios_on(self, msg, cliente):\n",
    "        try:\n",
    "            cliente.send(msg)\n",
    "        except:\n",
    "            self.clientes.remove(c)\n",
    "    \n",
    "    def sair_chat(self, cliente):\n",
    "        print(onlines)\n",
    "        print(\"SAIU do chat\",onlines.get(cliente.getpeername()[1])[0])\n",
    "        \n",
    "        teste = \"Mensagem do Servidor: {} SAIU do chat\".format(str(onlines.get(cliente.getpeername()[1])[0]))\n",
    "        #print(teste)\n",
    "        \n",
    "        msg=pickle.dumps(teste)\n",
    "        print(cliente)\n",
    "        print(msg)\n",
    "        onlines.pop(cliente.getpeername()[1], None)\n",
    "        print(onlines)\n",
    "        self.msg_to_all(msg, cliente)\n",
    "    \n",
    "    def aceptarCon(self):\n",
    "        print(\"aceptarCon iniciado\")\n",
    "        while True:\n",
    "            try:\n",
    "                conn, addr = self.sock.accept()\n",
    "                conn.setblocking(False)\n",
    "                self.clientes.append(conn)\n",
    "                \n",
    "                #print(self.clientes)\n",
    "            except:\n",
    "                pass\n",
    "\n",
    "    def procesarCon(self):\n",
    "        print(\"ProcesarCon iniciado\")\n",
    "        while True:\n",
    "            if len(self.clientes) > 0:\n",
    "                for c in self.clientes:\n",
    "                    try:\n",
    "                        data = c.recv(1024)\n",
    "                        teste = data.decode('utf-8')\n",
    "                        if data:\n",
    "                            teste = teste.split('/')\n",
    "                            if onlines.get(c.getpeername()[1], None) == None:\n",
    "                                onlines[c.getpeername()[1]] = teste\n",
    "                                print('{} entrou no chat'.format(teste[0]))\n",
    "                            \n",
    "                            elif len(teste) > 1:\n",
    "                                if teste[1] == 'USUARIOS':\n",
    "                                    msg_online = 'Mensagem do Servidor!\\nUsuarios onlines:\\n'\n",
    "                                    for key in onlines:\n",
    "                                        print(onlines[key])\n",
    "                                        msg_online += \"{} \\n\".format(str(onlines[key][0]))\n",
    "                                    print(msg_online)\n",
    "                                    mensagem=pickle.dumps(msg_online)\n",
    "                                    #msg_online = msg_online.encode('utf-8')\n",
    "                                    self.usuarios_on(mensagem,c)\n",
    "                                elif teste[1] == 'SAIR':\n",
    "                                    self.sair_chat(c)\n",
    "                                else:\n",
    "                                    teste = \"Mensagem do servidor: Comando invalido\\n\"\n",
    "                                    mensagem=pickle.dumps(teste)\n",
    "                                    #print('entrando aqui 3')\n",
    "                                    self.msg_to_all(mensagem, c)\n",
    "                            else:\n",
    "                                teste = data.decode('utf-8')\n",
    "                                print(teste)\n",
    "                                mensagem=pickle.dumps(teste)\n",
    "                                #print('entrando aqui 3')\n",
    "                                self.msg_to_all(mensagem, c)\n",
    "                            \n",
    "                    except:\n",
    "                        pass\n",
    "\n",
    "\n",
    "s = Servidor()"
   ]
  }
 ],
 "metadata": {
  "kernelspec": {
   "display_name": "Python 3",
   "language": "python",
   "name": "python3"
  },
  "language_info": {
   "codemirror_mode": {
    "name": "ipython",
    "version": 3
   },
   "file_extension": ".py",
   "mimetype": "text/x-python",
   "name": "python",
   "nbconvert_exporter": "python",
   "pygments_lexer": "ipython3",
   "version": "3.8.5"
  }
 },
 "nbformat": 4,
 "nbformat_minor": 4
}
