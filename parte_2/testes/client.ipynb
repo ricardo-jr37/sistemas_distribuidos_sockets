{
 "cells": [
  {
   "cell_type": "markdown",
   "metadata": {},
   "source": [
    "# Descrição do problema:\n",
    "<br>A segunda parte do trabalho consistem em implementar um Chat usando TCP. O Chat deve suportar múltiplos clientes e um servidor. Todos os clientes devem estar na mesma sala do chat (i.e., as mensagens enviadas por um cliente devem ser recebidas por todos os clientes). Comandos que o usuário (i.e., cliente) pode enviar:\n",
    "\n",
    "* /ENTRAR: ao usar esse comando, ele é requisitado a digitar IP, porta do servidor e nickname que deseja usar no chat (não precisa tratar nicknames repetidos);<br><br>\n",
    "\n",
    "* Uma vez conectado, o cliente pode enviar mensagens para a sala do chat;<br><br>\n",
    "\n",
    "* /USUARIOS: ao enviar esse comando, o cliente recebe a lista de usuários atualmente conectados ao chat;<br><br>\n",
    "\n",
    "* /SAIR: ao enviar esse comando, uma mensagem é enviada à sala do chat informando que o usuário está saindo e encerra a participação no chat.<br><br>\n",
    "\n",
    "É papel do servidor receber as requisições dos clientes e encaminhar as mensagens\n",
    "recebidas para todos eles. Descreva o formato para cada tipo das mensagem. Não\n",
    "pode usar comunicação em grupo."
   ]
  },
  {
   "cell_type": "code",
   "execution_count": 1,
   "metadata": {},
   "outputs": [],
   "source": [
    "import socket"
   ]
  },
  {
   "cell_type": "code",
   "execution_count": 2,
   "metadata": {},
   "outputs": [],
   "source": [
    "target_host = 'localhost'\n",
    "target_port = 6789"
   ]
  },
  {
   "cell_type": "code",
   "execution_count": null,
   "metadata": {},
   "outputs": [
    {
     "name": "stdout",
     "output_type": "stream",
     "text": [
      "envie uma mensagem para o servidor: ola\n"
     ]
    }
   ],
   "source": [
    "client = socket.socket(socket.AF_INET, socket.SOCK_STREAM)\n",
    "#conexão do cliente\n",
    "client.connect((target_host, target_port))\n",
    "#enviar uma mensagem para o servidor\n",
    "msg = input('envie uma mensagem para o servidor: ')\n",
    "client.sendall(bytes(msg, 'utf-8'))\n",
    "response = client.recv(1024).decode('utf-8')\n",
    "print(response)\n",
    "s.close()"
   ]
  },
  {
   "cell_type": "code",
   "execution_count": 8,
   "metadata": {},
   "outputs": [
    {
     "name": "stdout",
     "output_type": "stream",
     "text": [
      "ricardo junior\n",
      "FROM SERVER:\n",
      "Nome: ricardo\n",
      "Sobrenome:junior\n"
     ]
    }
   ],
   "source": [
    "import socket\n",
    "import pickle\n",
    "PORT = 6789\n",
    "HOST = 'localhost'\n",
    "s = socket.socket(socket.AF_INET, socket.SOCK_STREAM)\n",
    "s.connect((HOST, PORT))\n",
    "msg = input()\n",
    "s.sendall(bytes(msg, 'utf-8'))\n",
    "\n",
    "data = s.recv(4096)\n",
    "# Decode received data into UTF-8\n",
    "data = pickle.loads(data)\n",
    "# Convert decoded data into list\n",
    "\n",
    "s.close()\n",
    "print ('FROM SERVER:\\nNome: {}\\nSobrenome:{}'.format(data[0], data[1]))"
   ]
  },
  {
   "cell_type": "code",
   "execution_count": null,
   "metadata": {},
   "outputs": [
    {
     "name": "stdout",
     "output_type": "stream",
     "text": [
      "Connection Address:('127.0.0.1', 58510)\n",
      "b'Hello, the world!'\n"
     ]
    }
   ],
   "source": [
    "import socket\n",
    "\n",
    "s = socket.socket(socket.AF_INET, socket.SOCK_STREAM)\n",
    "\n",
    "s.bind(('localhost', 3333))\n",
    "\n",
    "s.listen(5)\n",
    "flag = 0\n",
    "while True:\n",
    "    connect, addr = s.accept()\n",
    "    print(\"Connection Address:\" + str(addr))\n",
    "\n",
    "    str_return = \"Welcome to visit my test socket server. Waiting for command.\"\n",
    "    connect.sendto(bytes(str_return, 'utf-8'), addr)\n",
    "\n",
    "    str_recv, temp = connect.recvfrom(1024)\n",
    "    print(str_recv)\n",
    "\n",
    "    str_return = \"I got your command, it is \" + str(str_recv)\n",
    "    connect.sendto(bytes(str_return, 'utf-8'), addr)\n",
    "\n",
    "    connect.close()"
   ]
  },
  {
   "cell_type": "code",
   "execution_count": null,
   "metadata": {},
   "outputs": [
    {
     "name": "stdout",
     "output_type": "stream",
     "text": [
      "ricardo > ricardo\n",
      "ricardo\n",
      "ricardonada\n"
     ]
    }
   ],
   "source": [
    "#%%writefile client.py\n",
    "import socket\n",
    "import threading\n",
    "\n",
    "class Client:\n",
    "    s = socket.socket(socket.AF_INET, socket.SOCK_STREAM)\n",
    "    name = 'ricardo'\n",
    "    \n",
    "    def sendMsg(self):\n",
    "        while True:\n",
    "            msg = input(f'{self.name} > ')\n",
    "            print(msg)\n",
    "            self.s.send(bytes(input(msg), 'utf-8'))\n",
    "    \n",
    "    def __init__(self):\n",
    "        self.s.connect(('localhost', 1234))\n",
    "        \n",
    "        iThread = threading.Thread(target=self.sendMsg)\n",
    "        iThread.daemon = True\n",
    "        iThread.start()\n",
    "        \n",
    "        while True:\n",
    "            data = self.s.recv(1024)\n",
    "            if not data:\n",
    "                break\n",
    "            print(str(data, 'utf-8'))\n",
    "\n",
    "Client()"
   ]
  },
  {
   "cell_type": "code",
   "execution_count": 8,
   "metadata": {},
   "outputs": [
    {
     "name": "stdout",
     "output_type": "stream",
     "text": [
      "Seja bem-vindo:\n",
      "Se quiser entrar no chat use o comando: /ENTRAR\n",
      "/ENTRAR\n",
      "Vamos se conectar no servidor, agora!\n",
      "\n",
      "Digite o ip do servidor: 127.0.0.1\n",
      "Digite a porta do servidor: 50\n",
      "Conectado ao Servidor!\n",
      "Informe seu nick: Ricardo\n",
      "Olá\n",
      "brendon: nada\n",
      "Tudo Bom, Brendon?\n",
      "brendon: Tudo, sim! e contigo?\n",
      "/SAIR\n",
      "asda\n",
      "ATÉ MAIS!\n"
     ]
    }
   ],
   "source": [
    "#%%writefile client2.py\n",
    "import socket\n",
    "import threading\n",
    "import sys\n",
    "import pickle\n",
    "HEADER_LENGTH = 10\n",
    "entrar = input('Seja bem-vindo:\\nSe quiser entrar no chat use o comando: /ENTRAR\\n')\n",
    "while entrar != '/ENTRAR':\n",
    "    print('Comando invalido. Tente novamente!')\n",
    "    entrar = input('Se quiser entrar no chat use o comando: /ENTRAR\\n')\n",
    "\n",
    "print('Vamos se conectar no servidor, agora!\\n')\n",
    "x = 0\n",
    "ips = input('Digite o ip do servidor: ')\n",
    "ports = input('Digite a porta do servidor: ')\n",
    "\n",
    "if (ips == 'localhost' or ips == '127.0.0.1') and int(ports) == 50:\n",
    "    x = 1\n",
    "\n",
    "while x==0:\n",
    "    print('Servidor não encontrado. Tente novamente!')\n",
    "    ips = input('Digite o ip do servidor: ')\n",
    "    ports = input('Digite a porta do servidor: ')\n",
    "    if (ips == 'localhost' or ips == '127.0.0.1') and int(ports) == 50:\n",
    "        x = 1\n",
    "print('Conectado ao Servidor!')\n",
    "class Cliente():\n",
    "    my_username = input('Informe seu nick: ')\n",
    "    \n",
    "    def __init__(self, host='localhost', port=50):\n",
    "    \n",
    "        self.s = socket.socket(socket.AF_INET, socket.SOCK_STREAM)\n",
    "        self.s.connect((str(host), int(port)))\n",
    "        username = self.my_username.encode('utf-8')\n",
    "        username_header = f\"{len(username):<{HEADER_LENGTH}}\".encode('utf-8')\n",
    "        #s.sendall(bytes(message_header + message, 'utf-8'))\n",
    "        self.s.send(username)\n",
    "        #self.s.send(pickle.dumps(username))\n",
    "        \n",
    "        msg_recv = threading.Thread(target=self.msg_recv)\n",
    "        \n",
    "        \n",
    "        \n",
    "        msg_recv.deamno = True\n",
    "        msg_recv.start()\n",
    "        aux = 0\n",
    "        while True:\n",
    "            msg = input('')\n",
    "            if aux == 1:\n",
    "                break\n",
    "            if msg:\n",
    "                if msg == '/SAIR':\n",
    "                    msg = '{}: {}'.format(self.my_username, msg)\n",
    "                    self.send_msg(msg)\n",
    "                    aux = 1\n",
    "                else:              \n",
    "                    msg = '{}: {}'.format(self.my_username, msg)\n",
    "                    self.send_msg(msg)\n",
    "        \n",
    "        self.s.close()            \n",
    "        print('ATÉ MAIS!')\n",
    "    def msg_recv(self):\n",
    "        while True:\n",
    "            try:\n",
    "                data=self.s.recv(1024)\n",
    "                if data:\n",
    "                    print(pickle.loads(data))\n",
    "            except:\n",
    "                pass\n",
    "    \n",
    "    def send_msg(self, msg):\n",
    "        self.s.send(msg.encode('utf-8'))\n",
    "    \n",
    "    \n",
    "c = Cliente()"
   ]
  }
 ],
 "metadata": {
  "kernelspec": {
   "display_name": "Python 3",
   "language": "python",
   "name": "python3"
  },
  "language_info": {
   "codemirror_mode": {
    "name": "ipython",
    "version": 3
   },
   "file_extension": ".py",
   "mimetype": "text/x-python",
   "name": "python",
   "nbconvert_exporter": "python",
   "pygments_lexer": "ipython3",
   "version": "3.8.5"
  }
 },
 "nbformat": 4,
 "nbformat_minor": 4
}
