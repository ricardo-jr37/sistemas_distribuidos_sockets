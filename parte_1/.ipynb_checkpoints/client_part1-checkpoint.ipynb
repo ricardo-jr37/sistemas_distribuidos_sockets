{
 "cells": [
  {
   "cell_type": "code",
   "execution_count": null,
   "metadata": {},
   "outputs": [
    {
     "name": "stdout",
     "output_type": "stream",
     "text": [
      "Welcome to the simple calculator! \n",
      " - Press X if you want to exit \n",
      " - Insert the values of A and B and then the operation you want to make\n",
      "Insert the value for A\n",
      "X\n",
      "Insert the value for B\n",
      "X\n",
      "Insert the arithmetic operation\n",
      "X\n",
      "Message being send to server: X, X, X\n",
      "\n",
      "True\n"
     ]
    }
   ],
   "source": [
    "import socket\n",
    "\n",
    "IP = \"127.0.0.1\"\n",
    "PORT = 12000\n",
    "\n",
    "print('Welcome to the simple calculator! \\n - Press X if you want to exit \\n - Insert the values of A and B and then the operation you want to make')\n",
    "\n",
    "socket = socket.socket(socket.AF_INET, socket.SOCK_DGRAM)\n",
    "var = 1\n",
    "while True:\n",
    "\n",
    "    print('Insert the value for A')\n",
    "    a = input()\n",
    "\n",
    "    print('Insert the value for B')\n",
    "    b = input()\n",
    "\n",
    "    print('Insert the arithmetic operation')\n",
    "    operator = input()\n",
    "\n",
    "\n",
    "\n",
    "    message = a +', '+b+', '+operator\n",
    "    print('Message being send to server: ' + message + \"\\n\")\n",
    "\n",
    "    socket.sendto(message.encode('utf-8'), (IP, PORT))\n",
    "    if a == 'X' or b == 'X' or operator == 'X':\n",
    "        break\n",
    "\n",
    "    data, address = socket.recvfrom(2048)\n",
    "    text = data.decode('utf-8')\n",
    "    print('Result received from server %s : %s ' % (address, text) + \"\\n\")\n",
    "\n",
    "print('Connection Closed')\n",
    "socket.close()"
   ]
  },
  {
   "cell_type": "code",
   "execution_count": null,
   "metadata": {},
   "outputs": [],
   "source": []
  }
 ],
 "metadata": {
  "kernelspec": {
   "display_name": "Python 3",
   "language": "python",
   "name": "python3"
  },
  "language_info": {
   "codemirror_mode": {
    "name": "ipython",
    "version": 3
   },
   "file_extension": ".py",
   "mimetype": "text/x-python",
   "name": "python",
   "nbconvert_exporter": "python",
   "pygments_lexer": "ipython3",
   "version": "3.8.5"
  }
 },
 "nbformat": 4,
 "nbformat_minor": 4
}
