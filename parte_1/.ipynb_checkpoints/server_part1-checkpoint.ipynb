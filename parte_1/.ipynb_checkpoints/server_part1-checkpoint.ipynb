{
 "cells": [
  {
   "cell_type": "code",
   "execution_count": 12,
   "metadata": {},
   "outputs": [
    {
     "name": "stdout",
     "output_type": "stream",
     "text": [
      "Server Listening At ('127.0.0.1', 12000)\n",
      "Received from client ('127.0.0.1', 56669) : X, X, X\n",
      "Connection Closed\n"
     ]
    }
   ],
   "source": [
    "import socket\n",
    "import operator\n",
    "\n",
    "# 'Converts' the string operator into a real operator\n",
    "operators = { \n",
    "            \"+\": operator.add, \n",
    "            \"-\": operator.sub, \n",
    "            '*' : operator.mul,\n",
    "            '/' : operator.truediv,  \n",
    "            '%' : operator.mod,\n",
    "            '^' : operator.xor, \n",
    "            }\n",
    "\n",
    "IP = \"127.0.0.1\"\n",
    "PORT = 12000\n",
    "\n",
    "socket = socket.socket(socket.AF_INET, socket.SOCK_DGRAM)\n",
    "socket.bind((IP, PORT))\n",
    "\n",
    "print('Server Listening At {}'.format(socket.getsockname()))\n",
    "\n",
    "while True:\n",
    "    messageBytes, address = socket.recvfrom(2048)\n",
    "    messageString = messageBytes.decode('utf-8')\n",
    "    print('Received from client {} : {}'.format(address, messageString))\n",
    "\n",
    "    messageString = messageString.split(\", \")\n",
    "    a = messageString[0]\n",
    "    b = messageString[1]\n",
    "    operator = messageString[2]\n",
    "\n",
    "    if a == 'X' or b == 'X' or operator == 'X':\n",
    "        break\n",
    "\n",
    "    result = operators[operator](int(a), int(b))\n",
    "\n",
    "\n",
    "    socket.sendto(str(result).encode(), address)\n",
    "\n",
    "\n",
    "print('Connection Closed')\n",
    "socket.close()"
   ]
  }
 ],
 "metadata": {
  "kernelspec": {
   "display_name": "Python 3",
   "language": "python",
   "name": "python3"
  },
  "language_info": {
   "codemirror_mode": {
    "name": "ipython",
    "version": 3
   },
   "file_extension": ".py",
   "mimetype": "text/x-python",
   "name": "python",
   "nbconvert_exporter": "python",
   "pygments_lexer": "ipython3",
   "version": "3.8.5"
  }
 },
 "nbformat": 4,
 "nbformat_minor": 4
}
