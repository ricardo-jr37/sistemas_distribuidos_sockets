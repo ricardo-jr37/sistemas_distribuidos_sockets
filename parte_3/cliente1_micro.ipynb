{
 "cells": [
  {
   "cell_type": "code",
   "execution_count": 7,
   "metadata": {},
   "outputs": [],
   "source": [
    "import socket\n",
    "from micro_pb2 import Microondas"
   ]
  },
  {
   "cell_type": "code",
   "execution_count": 3,
   "metadata": {},
   "outputs": [],
   "source": [
    "teste = Microondas()"
   ]
  },
  {
   "cell_type": "code",
   "execution_count": 5,
   "metadata": {},
   "outputs": [],
   "source": [
    "teste.temperatura = 10"
   ]
  },
  {
   "cell_type": "code",
   "execution_count": 8,
   "metadata": {},
   "outputs": [],
   "source": [
    "host='localhost'\n",
    "port=6789\n",
    "s = socket.socket(socket.AF_INET, socket.SOCK_STREAM)\n",
    "s.connect((str(host), int(port)))"
   ]
  },
  {
   "cell_type": "code",
   "execution_count": 27,
   "metadata": {},
   "outputs": [],
   "source": [
    "teste = Microondas()\n",
    "teste.temperatura = 100"
   ]
  },
  {
   "cell_type": "code",
   "execution_count": 28,
   "metadata": {},
   "outputs": [
    {
     "name": "stdout",
     "output_type": "stream",
     "text": [
      "b'\\r\\x00\\x00\\xc8B'\n"
     ]
    }
   ],
   "source": [
    "print(teste.SerializeToString())"
   ]
  },
  {
   "cell_type": "code",
   "execution_count": 20,
   "metadata": {},
   "outputs": [
    {
     "data": {
      "text/plain": [
       "50.0"
      ]
     },
     "execution_count": 20,
     "metadata": {},
     "output_type": "execute_result"
    }
   ],
   "source": [
    "teste.temperatura "
   ]
  },
  {
   "cell_type": "code",
   "execution_count": 37,
   "metadata": {},
   "outputs": [],
   "source": [
    "nada = Microondas()"
   ]
  },
  {
   "cell_type": "code",
   "execution_count": 38,
   "metadata": {},
   "outputs": [
    {
     "name": "stdout",
     "output_type": "stream",
     "text": [
      "5\n"
     ]
    }
   ],
   "source": [
    "print(nada.ParseFromString(b'\\r\\x00\\x00\\xc8B'))"
   ]
  },
  {
   "cell_type": "code",
   "execution_count": 39,
   "metadata": {},
   "outputs": [
    {
     "data": {
      "text/plain": [
       "100.0"
      ]
     },
     "execution_count": 39,
     "metadata": {},
     "output_type": "execute_result"
    }
   ],
   "source": [
    "nada.temperatura"
   ]
  },
  {
   "cell_type": "code",
   "execution_count": 49,
   "metadata": {},
   "outputs": [
    {
     "name": "stdout",
     "output_type": "stream",
     "text": [
      "Writing client_protoc.py\n"
     ]
    }
   ],
   "source": [
    "#%%writefile client_protoc.py\n",
    "\n",
    "import socket\n",
    "from micro_pb2 import Microondas\n",
    "\n",
    "teste = Microondas()\n",
    "teste.temperatura = 50\n",
    "PORT = 6789\n",
    "HOST = 'localhost'\n",
    "s = socket.socket(socket.AF_INET, socket.SOCK_STREAM)\n",
    "s.connect((HOST, PORT))\n",
    "s.sendall(teste.SerializeToString())\n",
    "s.close()"
   ]
  },
  {
   "cell_type": "code",
   "execution_count": null,
   "metadata": {
    "scrolled": true
   },
   "outputs": [
    {
     "name": "stdout",
     "output_type": "stream",
     "text": [
      "mensagem enviada\n",
      "mensagem enviada\n",
      "mensagem enviada\n",
      "mensagem enviada\n",
      "mensagem enviada\n",
      "mensagem enviada\n",
      "mensagem enviada\n",
      "mensagem enviada\n",
      "mensagem enviada\n",
      "mensagem enviada\n",
      "mensagem enviada\n",
      "mensagem enviada\n"
     ]
    }
   ],
   "source": [
    "import time\n",
    "import socket\n",
    "#from senstemp_pb2 import SensorTemp\n",
    "#sensortemp = SensorTemp()\n",
    "#sensortemp.temperatura = 38\n",
    "PORT = 6789\n",
    "HOST = 'localhost'\n",
    "s = socket.socket(socket.AF_INET, socket.SOCK_STREAM)\n",
    "s.connect((HOST, PORT))\n",
    "while True:\n",
    "    \n",
    "    value = '5'\n",
    "    s.sendall(value.encode('utf-8'))\n",
    "    print('mensagem enviada')\n",
    "    time.sleep(10)\n",
    "\n",
    "s.close()"
   ]
  },
  {
   "cell_type": "code",
   "execution_count": 68,
   "metadata": {},
   "outputs": [
    {
     "data": {
      "text/plain": [
       "0"
      ]
     },
     "execution_count": 68,
     "metadata": {},
     "output_type": "execute_result"
    }
   ],
   "source": [
    "random.randrange(-1, 2, 1)"
   ]
  },
  {
   "cell_type": "code",
   "execution_count": 45,
   "metadata": {},
   "outputs": [
    {
     "name": "stdout",
     "output_type": "stream",
     "text": [
      "0.12928520259044451\n"
     ]
    }
   ],
   "source": [
    "import random\n",
    "\n",
    "print(random.random())"
   ]
  },
  {
   "cell_type": "code",
   "execution_count": 24,
   "metadata": {},
   "outputs": [
    {
     "name": "stdout",
     "output_type": "stream",
     "text": [
      "0\n"
     ]
    }
   ],
   "source": [
    "import random\n",
    "\n",
    "print(random.randrange(-1, 1))"
   ]
  },
  {
   "cell_type": "code",
   "execution_count": null,
   "metadata": {
    "scrolled": true
   },
   "outputs": [
    {
     "name": "stdout",
     "output_type": "stream",
     "text": [
      "mensagem enviada\n",
      "mensagem enviada\n",
      "mensagem enviada\n",
      "mensagem enviada\n",
      "mensagem enviada\n",
      "mensagem enviada\n",
      "mensagem enviada\n",
      "mensagem enviada\n",
      "mensagem enviada\n",
      "mensagem enviada\n",
      "mensagem enviada\n",
      "mensagem enviada\n",
      "mensagem enviada\n",
      "mensagem enviada\n",
      "mensagem enviada\n",
      "mensagem enviada\n",
      "mensagem enviada\n",
      "mensagem enviada\n",
      "mensagem enviada\n",
      "mensagem enviada\n",
      "mensagem enviada\n",
      "mensagem enviada\n",
      "mensagem enviada\n",
      "mensagem enviada\n",
      "mensagem enviada\n",
      "mensagem enviada\n",
      "mensagem enviada\n",
      "mensagem enviada\n",
      "mensagem enviada\n",
      "mensagem enviada\n",
      "mensagem enviada\n",
      "mensagem enviada\n",
      "mensagem enviada\n",
      "mensagem enviada\n",
      "mensagem enviada\n",
      "mensagem enviada\n",
      "mensagem enviada\n",
      "mensagem enviada\n",
      "mensagem enviada\n",
      "mensagem enviada\n",
      "mensagem enviada\n",
      "mensagem enviada\n",
      "mensagem enviada\n",
      "mensagem enviada\n",
      "mensagem enviada\n",
      "mensagem enviada\n",
      "mensagem enviada\n",
      "mensagem enviada\n",
      "mensagem enviada\n",
      "mensagem enviada\n",
      "mensagem enviada\n",
      "mensagem enviada\n",
      "mensagem enviada\n",
      "mensagem enviada\n",
      "mensagem enviada\n",
      "mensagem enviada\n",
      "mensagem enviada\n",
      "mensagem enviada\n",
      "mensagem enviada\n",
      "mensagem enviada\n",
      "mensagem enviada\n",
      "mensagem enviada\n",
      "mensagem enviada\n",
      "mensagem enviada\n",
      "mensagem enviada\n",
      "mensagem enviada\n",
      "mensagem enviada\n",
      "mensagem enviada\n",
      "mensagem enviada\n",
      "mensagem enviada\n",
      "mensagem enviada\n",
      "mensagem enviada\n",
      "mensagem enviada\n",
      "mensagem enviada\n",
      "mensagem enviada\n",
      "mensagem enviada\n",
      "mensagem enviada\n",
      "mensagem enviada\n"
     ]
    }
   ],
   "source": [
    "import time\n",
    "import socket\n",
    "from senstemp_pb2 import SensorTemp\n",
    "import random\n",
    "sensortemp = SensorTemp()\n",
    "sensortemp.temperatura = 38\n",
    "PORT = 1010\n",
    "HOST = 'localhost'\n",
    "s = socket.socket(socket.AF_INET, socket.SOCK_STREAM)\n",
    "s.connect((HOST, PORT))\n",
    "while True:\n",
    "    ruido = random.random()\n",
    "    fator = random.randrange(-1, 2, 1)\n",
    "    final = ruido*fator\n",
    "    sensortemp = SensorTemp()\n",
    "    sensortemp.temperatura = 38 + final\n",
    "    s.sendall(sensortemp.SerializeToString())\n",
    "    print('mensagem enviada')\n",
    "    time.sleep(5)\n",
    "    \n",
    "s.close()\n"
   ]
  },
  {
   "cell_type": "code",
   "execution_count": null,
   "metadata": {
    "scrolled": true
   },
   "outputs": [
    {
     "name": "stdout",
     "output_type": "stream",
     "text": [
      "quarto\n",
      "37.37720489501953\n",
      "quarto\n",
      "38.0\n",
      "quarto\n",
      "38.09322738647461\n",
      "quarto\n",
      "38.69252014160156\n",
      "quarto\n",
      "37.525455474853516\n",
      "quarto\n",
      "38.00823974609375\n",
      "quarto\n",
      "38.0\n",
      "quarto\n",
      "38.36753845214844\n",
      "quarto\n",
      "38.103694915771484\n",
      "quarto\n",
      "38.739505767822266\n",
      "quarto\n",
      "38.0\n",
      "quarto\n",
      "38.03214645385742\n",
      "quarto\n",
      "37.4538688659668\n",
      "quarto\n",
      "37.28859329223633\n",
      "quarto\n",
      "38.0\n",
      "quarto\n",
      "38.0\n",
      "quarto\n",
      "37.26627731323242\n",
      "quarto\n",
      "38.700626373291016\n",
      "quarto\n",
      "38.0\n",
      "quarto\n",
      "38.948429107666016\n",
      "quarto\n",
      "37.14507293701172\n",
      "quarto\n",
      "37.56350326538086\n",
      "quarto\n",
      "38.59511184692383\n",
      "quarto\n",
      "37.550941467285156\n",
      "quarto\n",
      "38.01357650756836\n",
      "quarto\n",
      "38.88164138793945\n",
      "quarto\n",
      "38.0\n",
      "quarto\n",
      "38.240028381347656\n",
      "quarto\n",
      "38.0\n",
      "quarto\n",
      "38.0\n",
      "quarto\n",
      "38.360984802246094\n",
      "quarto\n",
      "37.97575759887695\n",
      "quarto\n",
      "37.231483459472656\n",
      "quarto\n",
      "38.0\n",
      "quarto\n",
      "38.55699157714844\n",
      "quarto\n",
      "37.945919036865234\n",
      "quarto\n",
      "37.10095977783203\n",
      "quarto\n",
      "37.16999053955078\n",
      "quarto\n",
      "38.496917724609375\n",
      "quarto\n",
      "38.12321090698242\n",
      "quarto\n",
      "38.856468200683594\n",
      "quarto\n",
      "38.0\n",
      "quarto\n",
      "38.14146423339844\n",
      "quarto\n",
      "37.150169372558594\n",
      "quarto\n",
      "38.0\n",
      "quarto\n",
      "37.39836883544922\n",
      "quarto\n",
      "38.0\n",
      "quarto\n",
      "38.0\n",
      "quarto\n",
      "38.0\n",
      "quarto\n",
      "38.0\n"
     ]
    }
   ],
   "source": [
    "#temperatura_quarto\n",
    "import time\n",
    "import socket\n",
    "from sensores_pb2 import Sensor\n",
    "import random\n",
    "\n",
    "\n",
    "PORT = 1510\n",
    "HOST = 'localhost'\n",
    "s = socket.socket(socket.AF_INET, socket.SOCK_STREAM)\n",
    "s.connect((HOST, PORT))\n",
    "while True:\n",
    "    ruido = random.random()\n",
    "    fator = random.randrange(-1, 2, 1)\n",
    "    final = ruido*fator\n",
    "    sensor = Sensor()\n",
    "    sensor.nome='quarto'\n",
    "    sensor.temperatura_quarto = 38 + final\n",
    "    print(sensor.nome)\n",
    "    print(sensor.temperatura_quarto)\n",
    "    s.sendall(sensor.SerializeToString())\n",
    "    #print('mensagem enviada')\n",
    "    time.sleep(8)\n",
    "    \n",
    "s.close()"
   ]
  }
 ],
 "metadata": {
  "kernelspec": {
   "display_name": "Python 3",
   "language": "python",
   "name": "python3"
  },
  "language_info": {
   "codemirror_mode": {
    "name": "ipython",
    "version": 3
   },
   "file_extension": ".py",
   "mimetype": "text/x-python",
   "name": "python",
   "nbconvert_exporter": "python",
   "pygments_lexer": "ipython3",
   "version": "3.8.5"
  }
 },
 "nbformat": 4,
 "nbformat_minor": 4
}
