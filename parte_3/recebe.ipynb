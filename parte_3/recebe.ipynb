{
 "cells": [
  {
   "cell_type": "code",
   "execution_count": 14,
   "metadata": {},
   "outputs": [
    {
     "name": "stdout",
     "output_type": "stream",
     "text": [
      "Overwriting recebe.py\n"
     ]
    }
   ],
   "source": [
    "%%writefile recebe.py\n",
    "#!/usr/bin/python3\n",
    "\n",
    "# CGI处理模块\n",
    "import cgi, cgitb \n",
    "\n",
    "# 创建 FieldStorage 的实例化\n",
    "form = cgi.FieldStorage() \n",
    "\n",
    "# 获取数据\n",
    "site_name = form.getvalue('name')\n",
    "\n",
    "print (\"Content-type:text/html\")\n",
    "print ()\n",
    "print (\"<html>\")\n",
    "print (\"<head>\")\n",
    "print (\"<meta charset=\\\"utf-8\\\">\")\n",
    "print (\"<title>本教程 CGI 测试实例</title>\")\n",
    "print (\"</head>\")\n",
    "print (\"<body>\")\n",
    "print (\"<h2>%s官网：%s</h2>\" % (site_name))\n",
    "print (\"</body>\")\n",
    "print (\"</html>\")"
   ]
  }
 ],
 "metadata": {
  "kernelspec": {
   "display_name": "Python 3",
   "language": "python",
   "name": "python3"
  },
  "language_info": {
   "codemirror_mode": {
    "name": "ipython",
    "version": 3
   },
   "file_extension": ".py",
   "mimetype": "text/x-python",
   "name": "python",
   "nbconvert_exporter": "python",
   "pygments_lexer": "ipython3",
   "version": "3.8.5"
  }
 },
 "nbformat": 4,
 "nbformat_minor": 4
}
